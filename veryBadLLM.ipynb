{
 "cells": [
  {
   "cell_type": "code",
   "execution_count": 2,
   "metadata": {},
   "outputs": [
    {
     "name": "stdout",
     "output_type": "stream",
     "text": [
      "Tokenized input IDs: tensor([[24361,    25,  7343,   642,  3840,  1521,  2130,   815,  2193,   284,\n",
      "          2438, 18261,    25,   352,    13,  3334,  3512,   329, 19617,  4678,\n",
      "           287,   262,  1693,  1910,   198,    17,    13, 25944,  1917,    12,\n",
      "            82, 10890,   290, 30063,  4678,   198,    18,    13, 20737,   284,\n",
      "          1205,   649,  3186,   290,  8514,   198,    19,    13,  6902,  3746,\n",
      "          2440, 13748,  2785,   198,    20,    13, 32675,   284,   670, 19863,\n",
      "           290,    14,   273, 27449]])\n",
      "Decoded text: Question: List 5 reasons why someone should learn to code Response: 1. High demand for coding skills in the job market\n",
      "2. Increased problem-solving and analytical skills\n",
      "3. Ability to develop new products and technologies\n",
      "4. Potentially higher earning potential\n",
      "5. Opportunity to work remotely and/or freelance\n"
     ]
    }
   ],
   "source": [
    "from transformers import AutoTokenizer, AutoModelForCausalLM, Trainer, TrainingArguments\n",
    "from datasets import load_dataset\n",
    "\n",
    "# Load dataset and tokenizer\n",
    "ds = load_dataset(\"MBZUAI/LaMini-instruction\")\n",
    "tokenizer = AutoTokenizer.from_pretrained(\"gpt2\")  # Replace with a smaller tokenizer if needed\n",
    "# Apply preprocessing\n",
    "tokenized_dataset = ds.map(batched=True)\n",
    "tokenized_dataset = tokenized_dataset.remove_columns(ds['train'].column_names)  # Keep only input IDs\n",
    "tokenized_dataset.set_format(\"torch\")\n",
    "\n",
    "sample = ds['train'][0]\n",
    "sample_text = f\"Question: {sample['instruction']} Response: {sample['response']}\"\n",
    "tokenized_output = tokenizer(sample_text, return_tensors=\"pt\", truncation=True)\n",
    "\n",
    "print(\"Tokenized input IDs:\", tokenized_output['input_ids'])\n",
    "print(\"Decoded text:\", tokenizer.decode(tokenized_output['input_ids'][0]))\n"
   ]
  },
  {
   "cell_type": "code",
   "execution_count": 3,
   "metadata": {},
   "outputs": [],
   "source": [
    "from transformers import AutoModelForCausalLM\n",
    "\n",
    "# Load a small pretrained model\n",
    "model = AutoModelForCausalLM.from_pretrained(\"gpt2\")  # Or use a smaller model\n"
   ]
  },
  {
   "cell_type": "code",
   "execution_count": 21,
   "metadata": {},
   "outputs": [
    {
     "name": "stdout",
     "output_type": "stream",
     "text": [
      "Epoch 1/30, Loss: 0.6879850625991821\n",
      "Epoch 2/30, Loss: 0.7145499587059021\n",
      "Epoch 3/30, Loss: 0.6784347295761108\n",
      "Epoch 4/30, Loss: 0.7065041065216064\n",
      "Epoch 5/30, Loss: 0.6854033470153809\n",
      "Epoch 6/30, Loss: 0.6697915196418762\n",
      "Epoch 7/30, Loss: 0.6660844683647156\n",
      "Epoch 8/30, Loss: 0.7106266021728516\n",
      "Epoch 9/30, Loss: 0.6842591166496277\n",
      "Epoch 10/30, Loss: 0.693565309047699\n",
      "Epoch 11/30, Loss: 0.6767123937606812\n",
      "Epoch 12/30, Loss: 0.6831029653549194\n",
      "Epoch 13/30, Loss: 0.6545853614807129\n",
      "Epoch 14/30, Loss: 0.6643322706222534\n",
      "Epoch 15/30, Loss: 0.6773766279220581\n",
      "Epoch 16/30, Loss: 0.6605320572853088\n",
      "Epoch 17/30, Loss: 0.6550776958465576\n",
      "Epoch 18/30, Loss: 0.6675324440002441\n",
      "Epoch 19/30, Loss: 0.6748270392417908\n",
      "Epoch 20/30, Loss: 0.6862779855728149\n",
      "Epoch 21/30, Loss: 0.6986839771270752\n",
      "Epoch 22/30, Loss: 0.699597179889679\n",
      "Epoch 23/30, Loss: 0.7008075714111328\n",
      "Epoch 24/30, Loss: 0.6305736303329468\n",
      "Epoch 25/30, Loss: 0.6613578796386719\n",
      "Epoch 26/30, Loss: 0.6822753548622131\n",
      "Epoch 27/30, Loss: 0.6735186576843262\n",
      "Epoch 28/30, Loss: 0.665901780128479\n",
      "Epoch 29/30, Loss: 0.6723039746284485\n",
      "Epoch 30/30, Loss: 0.7732157707214355\n",
      "Accuracy: 0.49\n"
     ]
    }
   ],
   "source": [
    "from transformers import TrainingArguments\n",
    "\n",
    "training_args = TrainingArguments(\n",
    "    output_dir=\"./small-llm\",\n",
    "    overwrite_output_dir=True,\n",
    "    num_train_epochs=100,\n",
    "    per_device_train_batch_size=8,\n",
    "    per_device_eval_batch_size=8,\n",
    "    gradient_accumulation_steps=2,\n",
    "    save_steps=500,\n",
    "    save_total_limit=2,\n",
    "    evaluation_strategy=\"steps\",\n",
    "    logging_dir=\"./logs\",\n",
    "    logging_steps=100,\n",
    "    learning_rate=5e-5,\n",
    "    weight_decay=0.01,\n",
    "    report_to=\"none\",\n",
    ")\n",
    "\n",
    "import torch\n",
    "import torch.nn as nn\n",
    "import torch.optim as optim\n",
    "from torch.utils.data import DataLoader, TensorDataset, random_split\n",
    "\n",
    "# Step 1: Prepare the Data\n",
    "X = torch.rand(1000, 5)  # Example feature data\n",
    "y = torch.randint(0, 2, (1000,))  # Example target data\n",
    "\n",
    "dataset = TensorDataset(X, y)\n",
    "train_size = int(0.8 * len(dataset))\n",
    "test_size = len(dataset) - train_size\n",
    "train_dataset, test_dataset = random_split(dataset, [train_size, test_size])\n",
    "\n",
    "train_loader = DataLoader(train_dataset, batch_size=16, shuffle=True)\n",
    "test_loader = DataLoader(test_dataset, batch_size=16, shuffle=False)\n",
    "\n",
    "# Step 2: Define the Model\n",
    "class ComplexNN(nn.Module):\n",
    "    def __init__(self):\n",
    "        super(ComplexNN, self).__init__()\n",
    "        self.fc1 = nn.Linear(5, 64)\n",
    "        self.fc2 = nn.Linear(64, 128)\n",
    "        self.fc3 = nn.Linear(128, 64)\n",
    "        self.fc4 = nn.Linear(64, 2)\n",
    "        self.dropout = nn.Dropout(0.5)\n",
    "\n",
    "    def forward(self, x):\n",
    "        x = torch.relu(self.fc1(x))\n",
    "        x = torch.relu(self.fc2(x))\n",
    "        x = torch.relu(self.fc3(x))\n",
    "        x = self.dropout(x)\n",
    "        x = self.fc4(x)\n",
    "        return x\n",
    "\n",
    "model = ComplexNN()\n",
    "\n",
    "# Step 3: Define the Loss Function and Optimizer\n",
    "criterion = nn.CrossEntropyLoss()\n",
    "optimizer = optim.Adam(model.parameters(), lr=0.001)\n",
    "\n",
    "# Step 4: Train the Model\n",
    "num_epochs = 30\n",
    "for epoch in range(num_epochs):\n",
    "    model.train()\n",
    "    for batch in train_loader:\n",
    "        inputs, targets = batch\n",
    "        optimizer.zero_grad()\n",
    "        outputs = model(inputs)\n",
    "        loss = criterion(outputs, targets)\n",
    "        loss.backward()\n",
    "        optimizer.step()\n",
    "    print(f'Epoch {epoch+1}/{num_epochs}, Loss: {loss.item()}')\n",
    "\n",
    "# Step 5: Evaluate the Model\n",
    "model.eval()\n",
    "correct = 0\n",
    "total = 0\n",
    "with torch.no_grad():\n",
    "    for batch in test_loader:\n",
    "        inputs, targets = batch\n",
    "        outputs = model(inputs)\n",
    "        _, predicted = torch.max(outputs, 1)\n",
    "        total += targets.size(0)\n",
    "        correct += (predicted == targets).sum().item()\n",
    "\n",
    "accuracy = correct / total\n",
    "print(f'Accuracy: {accuracy}')\n"
   ]
  },
  {
   "cell_type": "code",
   "execution_count": null,
   "metadata": {},
   "outputs": [
    {
     "ename": "AttributeError",
     "evalue": "'ComplexNN' object has no attribute 'save_pretrained'",
     "output_type": "error",
     "traceback": [
      "\u001b[0;31m---------------------------------------------------------------------------\u001b[0m",
      "\u001b[0;31mAttributeError\u001b[0m                            Traceback (most recent call last)",
      "Cell \u001b[0;32mIn[22], line 1\u001b[0m\n\u001b[0;32m----> 1\u001b[0m \u001b[43mmodel\u001b[49m\u001b[38;5;241;43m.\u001b[39;49m\u001b[43msave_pretrained\u001b[49m(\u001b[38;5;124m\"\u001b[39m\u001b[38;5;124m./small-llm\u001b[39m\u001b[38;5;124m\"\u001b[39m)\n\u001b[1;32m      2\u001b[0m tokenizer\u001b[38;5;241m.\u001b[39msave_pretrained(\u001b[38;5;124m\"\u001b[39m\u001b[38;5;124m./small-llm\u001b[39m\u001b[38;5;124m\"\u001b[39m)\n",
      "File \u001b[0;32m~/Documents/ML learn/.venv/lib/python3.12/site-packages/torch/nn/modules/module.py:1931\u001b[0m, in \u001b[0;36mModule.__getattr__\u001b[0;34m(self, name)\u001b[0m\n\u001b[1;32m   1929\u001b[0m     \u001b[38;5;28;01mif\u001b[39;00m name \u001b[38;5;129;01min\u001b[39;00m modules:\n\u001b[1;32m   1930\u001b[0m         \u001b[38;5;28;01mreturn\u001b[39;00m modules[name]\n\u001b[0;32m-> 1931\u001b[0m \u001b[38;5;28;01mraise\u001b[39;00m \u001b[38;5;167;01mAttributeError\u001b[39;00m(\n\u001b[1;32m   1932\u001b[0m     \u001b[38;5;124mf\u001b[39m\u001b[38;5;124m\"\u001b[39m\u001b[38;5;124m'\u001b[39m\u001b[38;5;132;01m{\u001b[39;00m\u001b[38;5;28mtype\u001b[39m(\u001b[38;5;28mself\u001b[39m)\u001b[38;5;241m.\u001b[39m\u001b[38;5;18m__name__\u001b[39m\u001b[38;5;132;01m}\u001b[39;00m\u001b[38;5;124m'\u001b[39m\u001b[38;5;124m object has no attribute \u001b[39m\u001b[38;5;124m'\u001b[39m\u001b[38;5;132;01m{\u001b[39;00mname\u001b[38;5;132;01m}\u001b[39;00m\u001b[38;5;124m'\u001b[39m\u001b[38;5;124m\"\u001b[39m\n\u001b[1;32m   1933\u001b[0m )\n",
      "\u001b[0;31mAttributeError\u001b[0m: 'ComplexNN' object has no attribute 'save_pretrained'"
     ]
    }
   ],
   "source": [
    "tokenizer.save_pretrained(\"./small-llm\")\n"
   ]
  },
  {
   "cell_type": "code",
   "execution_count": 27,
   "metadata": {},
   "outputs": [
    {
     "name": "stderr",
     "output_type": "stream",
     "text": [
      "Device set to use mps:0\n",
      "Setting `pad_token_id` to `eos_token_id`:50256 for open-end generation.\n"
     ]
    },
    {
     "name": "stdout",
     "output_type": "stream",
     "text": [
      "Question: who are you Response: We don't know for sure; we do know that the video\n"
     ]
    }
   ],
   "source": [
    "from transformers import pipeline\n",
    "\n",
    "# Load fine-tuned model\n",
    "model = AutoModelForCausalLM.from_pretrained(\"./small-llm\")\n",
    "tokenizer = AutoTokenizer.from_pretrained(\"./small-llm\")\n",
    "\n",
    "# Create a text generation pipeline\n",
    "generator = pipeline(\"text-generation\", model=model, tokenizer=tokenizer)\n",
    "\n",
    "# Generate a response\n",
    "question = \"who are you\"\n",
    "input_text = f\"Question: {question} Response:\"\n",
    "generated = generator(input_text, max_length=20, num_return_sequences=1, truncation = True)\n",
    "print(generated[0]['generated_text'])\n"
   ]
  }
 ],
 "metadata": {
  "kernelspec": {
   "display_name": ".venv",
   "language": "python",
   "name": "python3"
  },
  "language_info": {
   "codemirror_mode": {
    "name": "ipython",
    "version": 3
   },
   "file_extension": ".py",
   "mimetype": "text/x-python",
   "name": "python",
   "nbconvert_exporter": "python",
   "pygments_lexer": "ipython3",
   "version": "3.12.7"
  }
 },
 "nbformat": 4,
 "nbformat_minor": 2
}
